{
  "nbformat": 4,
  "nbformat_minor": 0,
  "metadata": {
    "colab": {
      "provenance": []
    },
    "kernelspec": {
      "name": "python3",
      "display_name": "Python 3"
    },
    "language_info": {
      "name": "python"
    }
  },
  "cells": [
    {
      "cell_type": "markdown",
      "source": [
        "Upload the Dataset"
      ],
      "metadata": {
        "id": "RvtQaRFVWIZ1"
      }
    },
    {
      "cell_type": "code",
      "source": [
        "from google.colab import files\n",
        "uploaded = files.upload()"
      ],
      "metadata": {
        "colab": {
          "base_uri": "https://localhost:8080/",
          "height": 73
        },
        "id": "plT1fMTwWNhu",
        "outputId": "f5597263-1a54-45d0-dd10-6a36876394b3"
      },
      "execution_count": null,
      "outputs": [
        {
          "output_type": "display_data",
          "data": {
            "text/plain": [
              "<IPython.core.display.HTML object>"
            ],
            "text/html": [
              "\n",
              "     <input type=\"file\" id=\"files-dc3c4f86-cc55-4df8-a5cc-bd1b7033a3a5\" name=\"files[]\" multiple disabled\n",
              "        style=\"border:none\" />\n",
              "     <output id=\"result-dc3c4f86-cc55-4df8-a5cc-bd1b7033a3a5\">\n",
              "      Upload widget is only available when the cell has been executed in the\n",
              "      current browser session. Please rerun this cell to enable.\n",
              "      </output>\n",
              "      <script>// Copyright 2017 Google LLC\n",
              "//\n",
              "// Licensed under the Apache License, Version 2.0 (the \"License\");\n",
              "// you may not use this file except in compliance with the License.\n",
              "// You may obtain a copy of the License at\n",
              "//\n",
              "//      http://www.apache.org/licenses/LICENSE-2.0\n",
              "//\n",
              "// Unless required by applicable law or agreed to in writing, software\n",
              "// distributed under the License is distributed on an \"AS IS\" BASIS,\n",
              "// WITHOUT WARRANTIES OR CONDITIONS OF ANY KIND, either express or implied.\n",
              "// See the License for the specific language governing permissions and\n",
              "// limitations under the License.\n",
              "\n",
              "/**\n",
              " * @fileoverview Helpers for google.colab Python module.\n",
              " */\n",
              "(function(scope) {\n",
              "function span(text, styleAttributes = {}) {\n",
              "  const element = document.createElement('span');\n",
              "  element.textContent = text;\n",
              "  for (const key of Object.keys(styleAttributes)) {\n",
              "    element.style[key] = styleAttributes[key];\n",
              "  }\n",
              "  return element;\n",
              "}\n",
              "\n",
              "// Max number of bytes which will be uploaded at a time.\n",
              "const MAX_PAYLOAD_SIZE = 100 * 1024;\n",
              "\n",
              "function _uploadFiles(inputId, outputId) {\n",
              "  const steps = uploadFilesStep(inputId, outputId);\n",
              "  const outputElement = document.getElementById(outputId);\n",
              "  // Cache steps on the outputElement to make it available for the next call\n",
              "  // to uploadFilesContinue from Python.\n",
              "  outputElement.steps = steps;\n",
              "\n",
              "  return _uploadFilesContinue(outputId);\n",
              "}\n",
              "\n",
              "// This is roughly an async generator (not supported in the browser yet),\n",
              "// where there are multiple asynchronous steps and the Python side is going\n",
              "// to poll for completion of each step.\n",
              "// This uses a Promise to block the python side on completion of each step,\n",
              "// then passes the result of the previous step as the input to the next step.\n",
              "function _uploadFilesContinue(outputId) {\n",
              "  const outputElement = document.getElementById(outputId);\n",
              "  const steps = outputElement.steps;\n",
              "\n",
              "  const next = steps.next(outputElement.lastPromiseValue);\n",
              "  return Promise.resolve(next.value.promise).then((value) => {\n",
              "    // Cache the last promise value to make it available to the next\n",
              "    // step of the generator.\n",
              "    outputElement.lastPromiseValue = value;\n",
              "    return next.value.response;\n",
              "  });\n",
              "}\n",
              "\n",
              "/**\n",
              " * Generator function which is called between each async step of the upload\n",
              " * process.\n",
              " * @param {string} inputId Element ID of the input file picker element.\n",
              " * @param {string} outputId Element ID of the output display.\n",
              " * @return {!Iterable<!Object>} Iterable of next steps.\n",
              " */\n",
              "function* uploadFilesStep(inputId, outputId) {\n",
              "  const inputElement = document.getElementById(inputId);\n",
              "  inputElement.disabled = false;\n",
              "\n",
              "  const outputElement = document.getElementById(outputId);\n",
              "  outputElement.innerHTML = '';\n",
              "\n",
              "  const pickedPromise = new Promise((resolve) => {\n",
              "    inputElement.addEventListener('change', (e) => {\n",
              "      resolve(e.target.files);\n",
              "    });\n",
              "  });\n",
              "\n",
              "  const cancel = document.createElement('button');\n",
              "  inputElement.parentElement.appendChild(cancel);\n",
              "  cancel.textContent = 'Cancel upload';\n",
              "  const cancelPromise = new Promise((resolve) => {\n",
              "    cancel.onclick = () => {\n",
              "      resolve(null);\n",
              "    };\n",
              "  });\n",
              "\n",
              "  // Wait for the user to pick the files.\n",
              "  const files = yield {\n",
              "    promise: Promise.race([pickedPromise, cancelPromise]),\n",
              "    response: {\n",
              "      action: 'starting',\n",
              "    }\n",
              "  };\n",
              "\n",
              "  cancel.remove();\n",
              "\n",
              "  // Disable the input element since further picks are not allowed.\n",
              "  inputElement.disabled = true;\n",
              "\n",
              "  if (!files) {\n",
              "    return {\n",
              "      response: {\n",
              "        action: 'complete',\n",
              "      }\n",
              "    };\n",
              "  }\n",
              "\n",
              "  for (const file of files) {\n",
              "    const li = document.createElement('li');\n",
              "    li.append(span(file.name, {fontWeight: 'bold'}));\n",
              "    li.append(span(\n",
              "        `(${file.type || 'n/a'}) - ${file.size} bytes, ` +\n",
              "        `last modified: ${\n",
              "            file.lastModifiedDate ? file.lastModifiedDate.toLocaleDateString() :\n",
              "                                    'n/a'} - `));\n",
              "    const percent = span('0% done');\n",
              "    li.appendChild(percent);\n",
              "\n",
              "    outputElement.appendChild(li);\n",
              "\n",
              "    const fileDataPromise = new Promise((resolve) => {\n",
              "      const reader = new FileReader();\n",
              "      reader.onload = (e) => {\n",
              "        resolve(e.target.result);\n",
              "      };\n",
              "      reader.readAsArrayBuffer(file);\n",
              "    });\n",
              "    // Wait for the data to be ready.\n",
              "    let fileData = yield {\n",
              "      promise: fileDataPromise,\n",
              "      response: {\n",
              "        action: 'continue',\n",
              "      }\n",
              "    };\n",
              "\n",
              "    // Use a chunked sending to avoid message size limits. See b/62115660.\n",
              "    let position = 0;\n",
              "    do {\n",
              "      const length = Math.min(fileData.byteLength - position, MAX_PAYLOAD_SIZE);\n",
              "      const chunk = new Uint8Array(fileData, position, length);\n",
              "      position += length;\n",
              "\n",
              "      const base64 = btoa(String.fromCharCode.apply(null, chunk));\n",
              "      yield {\n",
              "        response: {\n",
              "          action: 'append',\n",
              "          file: file.name,\n",
              "          data: base64,\n",
              "        },\n",
              "      };\n",
              "\n",
              "      let percentDone = fileData.byteLength === 0 ?\n",
              "          100 :\n",
              "          Math.round((position / fileData.byteLength) * 100);\n",
              "      percent.textContent = `${percentDone}% done`;\n",
              "\n",
              "    } while (position < fileData.byteLength);\n",
              "  }\n",
              "\n",
              "  // All done.\n",
              "  yield {\n",
              "    response: {\n",
              "      action: 'complete',\n",
              "    }\n",
              "  };\n",
              "}\n",
              "\n",
              "scope.google = scope.google || {};\n",
              "scope.google.colab = scope.google.colab || {};\n",
              "scope.google.colab._files = {\n",
              "  _uploadFiles,\n",
              "  _uploadFilesContinue,\n",
              "};\n",
              "})(self);\n",
              "</script> "
            ]
          },
          "metadata": {}
        },
        {
          "output_type": "stream",
          "name": "stdout",
          "text": [
            "Saving googl_data_2020_2025.csv to googl_data_2020_2025.csv\n"
          ]
        }
      ]
    },
    {
      "cell_type": "markdown",
      "source": [
        "Load the Dataset"
      ],
      "metadata": {
        "id": "T9bBlt0bZMT-"
      }
    },
    {
      "cell_type": "code",
      "source": [
        "import pandas as pd\n",
        "# Read the dataset\n",
        "df = pd.read_csv('googl_data_2020_2025.csv', sep=';')"
      ],
      "metadata": {
        "id": "2VPM5OGlZWDl"
      },
      "execution_count": null,
      "outputs": []
    },
    {
      "cell_type": "markdown",
      "source": [
        "Data Exploration"
      ],
      "metadata": {
        "id": "gpGcjkPlaN20"
      }
    },
    {
      "cell_type": "code",
      "source": [
        "# Display first few rows\n",
        "df.head()"
      ],
      "metadata": {
        "colab": {
          "base_uri": "https://localhost:8080/",
          "height": 206
        },
        "id": "-zwpg0XpaYrl",
        "outputId": "fefc35ea-22dc-4d18-dec8-a843cea793e3"
      },
      "execution_count": null,
      "outputs": [
        {
          "output_type": "execute_result",
          "data": {
            "text/plain": [
              "          Price,Adj Close,Close,High,Low,Open,Volume\n",
              "0         Ticker,GOOGL,GOOGL,GOOGL,GOOGL,GOOGL,GOOGL\n",
              "1                                         Date,,,,,,\n",
              "2  2020-01-02 00:00:00+00:00,68.18682098,68.43399...\n",
              "3  2020-01-03 00:00:00+00:00,67.83010101,68.07599...\n",
              "4  2020-01-06 00:00:00+00:00,69.63805389,69.89050..."
            ],
            "text/html": [
              "\n",
              "  <div id=\"df-503a525f-1bde-40d6-a881-b46207e57484\" class=\"colab-df-container\">\n",
              "    <div>\n",
              "<style scoped>\n",
              "    .dataframe tbody tr th:only-of-type {\n",
              "        vertical-align: middle;\n",
              "    }\n",
              "\n",
              "    .dataframe tbody tr th {\n",
              "        vertical-align: top;\n",
              "    }\n",
              "\n",
              "    .dataframe thead th {\n",
              "        text-align: right;\n",
              "    }\n",
              "</style>\n",
              "<table border=\"1\" class=\"dataframe\">\n",
              "  <thead>\n",
              "    <tr style=\"text-align: right;\">\n",
              "      <th></th>\n",
              "      <th>Price,Adj Close,Close,High,Low,Open,Volume</th>\n",
              "    </tr>\n",
              "  </thead>\n",
              "  <tbody>\n",
              "    <tr>\n",
              "      <th>0</th>\n",
              "      <td>Ticker,GOOGL,GOOGL,GOOGL,GOOGL,GOOGL,GOOGL</td>\n",
              "    </tr>\n",
              "    <tr>\n",
              "      <th>1</th>\n",
              "      <td>Date,,,,,,</td>\n",
              "    </tr>\n",
              "    <tr>\n",
              "      <th>2</th>\n",
              "      <td>2020-01-02 00:00:00+00:00,68.18682098,68.43399...</td>\n",
              "    </tr>\n",
              "    <tr>\n",
              "      <th>3</th>\n",
              "      <td>2020-01-03 00:00:00+00:00,67.83010101,68.07599...</td>\n",
              "    </tr>\n",
              "    <tr>\n",
              "      <th>4</th>\n",
              "      <td>2020-01-06 00:00:00+00:00,69.63805389,69.89050...</td>\n",
              "    </tr>\n",
              "  </tbody>\n",
              "</table>\n",
              "</div>\n",
              "    <div class=\"colab-df-buttons\">\n",
              "\n",
              "  <div class=\"colab-df-container\">\n",
              "    <button class=\"colab-df-convert\" onclick=\"convertToInteractive('df-503a525f-1bde-40d6-a881-b46207e57484')\"\n",
              "            title=\"Convert this dataframe to an interactive table.\"\n",
              "            style=\"display:none;\">\n",
              "\n",
              "  <svg xmlns=\"http://www.w3.org/2000/svg\" height=\"24px\" viewBox=\"0 -960 960 960\">\n",
              "    <path d=\"M120-120v-720h720v720H120Zm60-500h600v-160H180v160Zm220 220h160v-160H400v160Zm0 220h160v-160H400v160ZM180-400h160v-160H180v160Zm440 0h160v-160H620v160ZM180-180h160v-160H180v160Zm440 0h160v-160H620v160Z\"/>\n",
              "  </svg>\n",
              "    </button>\n",
              "\n",
              "  <style>\n",
              "    .colab-df-container {\n",
              "      display:flex;\n",
              "      gap: 12px;\n",
              "    }\n",
              "\n",
              "    .colab-df-convert {\n",
              "      background-color: #E8F0FE;\n",
              "      border: none;\n",
              "      border-radius: 50%;\n",
              "      cursor: pointer;\n",
              "      display: none;\n",
              "      fill: #1967D2;\n",
              "      height: 32px;\n",
              "      padding: 0 0 0 0;\n",
              "      width: 32px;\n",
              "    }\n",
              "\n",
              "    .colab-df-convert:hover {\n",
              "      background-color: #E2EBFA;\n",
              "      box-shadow: 0px 1px 2px rgba(60, 64, 67, 0.3), 0px 1px 3px 1px rgba(60, 64, 67, 0.15);\n",
              "      fill: #174EA6;\n",
              "    }\n",
              "\n",
              "    .colab-df-buttons div {\n",
              "      margin-bottom: 4px;\n",
              "    }\n",
              "\n",
              "    [theme=dark] .colab-df-convert {\n",
              "      background-color: #3B4455;\n",
              "      fill: #D2E3FC;\n",
              "    }\n",
              "\n",
              "    [theme=dark] .colab-df-convert:hover {\n",
              "      background-color: #434B5C;\n",
              "      box-shadow: 0px 1px 3px 1px rgba(0, 0, 0, 0.15);\n",
              "      filter: drop-shadow(0px 1px 2px rgba(0, 0, 0, 0.3));\n",
              "      fill: #FFFFFF;\n",
              "    }\n",
              "  </style>\n",
              "\n",
              "    <script>\n",
              "      const buttonEl =\n",
              "        document.querySelector('#df-503a525f-1bde-40d6-a881-b46207e57484 button.colab-df-convert');\n",
              "      buttonEl.style.display =\n",
              "        google.colab.kernel.accessAllowed ? 'block' : 'none';\n",
              "\n",
              "      async function convertToInteractive(key) {\n",
              "        const element = document.querySelector('#df-503a525f-1bde-40d6-a881-b46207e57484');\n",
              "        const dataTable =\n",
              "          await google.colab.kernel.invokeFunction('convertToInteractive',\n",
              "                                                    [key], {});\n",
              "        if (!dataTable) return;\n",
              "\n",
              "        const docLinkHtml = 'Like what you see? Visit the ' +\n",
              "          '<a target=\"_blank\" href=https://colab.research.google.com/notebooks/data_table.ipynb>data table notebook</a>'\n",
              "          + ' to learn more about interactive tables.';\n",
              "        element.innerHTML = '';\n",
              "        dataTable['output_type'] = 'display_data';\n",
              "        await google.colab.output.renderOutput(dataTable, element);\n",
              "        const docLink = document.createElement('div');\n",
              "        docLink.innerHTML = docLinkHtml;\n",
              "        element.appendChild(docLink);\n",
              "      }\n",
              "    </script>\n",
              "  </div>\n",
              "\n",
              "\n",
              "    <div id=\"df-82960d70-164f-4291-8cb9-db5e02808cbc\">\n",
              "      <button class=\"colab-df-quickchart\" onclick=\"quickchart('df-82960d70-164f-4291-8cb9-db5e02808cbc')\"\n",
              "                title=\"Suggest charts\"\n",
              "                style=\"display:none;\">\n",
              "\n",
              "<svg xmlns=\"http://www.w3.org/2000/svg\" height=\"24px\"viewBox=\"0 0 24 24\"\n",
              "     width=\"24px\">\n",
              "    <g>\n",
              "        <path d=\"M19 3H5c-1.1 0-2 .9-2 2v14c0 1.1.9 2 2 2h14c1.1 0 2-.9 2-2V5c0-1.1-.9-2-2-2zM9 17H7v-7h2v7zm4 0h-2V7h2v10zm4 0h-2v-4h2v4z\"/>\n",
              "    </g>\n",
              "</svg>\n",
              "      </button>\n",
              "\n",
              "<style>\n",
              "  .colab-df-quickchart {\n",
              "      --bg-color: #E8F0FE;\n",
              "      --fill-color: #1967D2;\n",
              "      --hover-bg-color: #E2EBFA;\n",
              "      --hover-fill-color: #174EA6;\n",
              "      --disabled-fill-color: #AAA;\n",
              "      --disabled-bg-color: #DDD;\n",
              "  }\n",
              "\n",
              "  [theme=dark] .colab-df-quickchart {\n",
              "      --bg-color: #3B4455;\n",
              "      --fill-color: #D2E3FC;\n",
              "      --hover-bg-color: #434B5C;\n",
              "      --hover-fill-color: #FFFFFF;\n",
              "      --disabled-bg-color: #3B4455;\n",
              "      --disabled-fill-color: #666;\n",
              "  }\n",
              "\n",
              "  .colab-df-quickchart {\n",
              "    background-color: var(--bg-color);\n",
              "    border: none;\n",
              "    border-radius: 50%;\n",
              "    cursor: pointer;\n",
              "    display: none;\n",
              "    fill: var(--fill-color);\n",
              "    height: 32px;\n",
              "    padding: 0;\n",
              "    width: 32px;\n",
              "  }\n",
              "\n",
              "  .colab-df-quickchart:hover {\n",
              "    background-color: var(--hover-bg-color);\n",
              "    box-shadow: 0 1px 2px rgba(60, 64, 67, 0.3), 0 1px 3px 1px rgba(60, 64, 67, 0.15);\n",
              "    fill: var(--button-hover-fill-color);\n",
              "  }\n",
              "\n",
              "  .colab-df-quickchart-complete:disabled,\n",
              "  .colab-df-quickchart-complete:disabled:hover {\n",
              "    background-color: var(--disabled-bg-color);\n",
              "    fill: var(--disabled-fill-color);\n",
              "    box-shadow: none;\n",
              "  }\n",
              "\n",
              "  .colab-df-spinner {\n",
              "    border: 2px solid var(--fill-color);\n",
              "    border-color: transparent;\n",
              "    border-bottom-color: var(--fill-color);\n",
              "    animation:\n",
              "      spin 1s steps(1) infinite;\n",
              "  }\n",
              "\n",
              "  @keyframes spin {\n",
              "    0% {\n",
              "      border-color: transparent;\n",
              "      border-bottom-color: var(--fill-color);\n",
              "      border-left-color: var(--fill-color);\n",
              "    }\n",
              "    20% {\n",
              "      border-color: transparent;\n",
              "      border-left-color: var(--fill-color);\n",
              "      border-top-color: var(--fill-color);\n",
              "    }\n",
              "    30% {\n",
              "      border-color: transparent;\n",
              "      border-left-color: var(--fill-color);\n",
              "      border-top-color: var(--fill-color);\n",
              "      border-right-color: var(--fill-color);\n",
              "    }\n",
              "    40% {\n",
              "      border-color: transparent;\n",
              "      border-right-color: var(--fill-color);\n",
              "      border-top-color: var(--fill-color);\n",
              "    }\n",
              "    60% {\n",
              "      border-color: transparent;\n",
              "      border-right-color: var(--fill-color);\n",
              "    }\n",
              "    80% {\n",
              "      border-color: transparent;\n",
              "      border-right-color: var(--fill-color);\n",
              "      border-bottom-color: var(--fill-color);\n",
              "    }\n",
              "    90% {\n",
              "      border-color: transparent;\n",
              "      border-bottom-color: var(--fill-color);\n",
              "    }\n",
              "  }\n",
              "</style>\n",
              "\n",
              "      <script>\n",
              "        async function quickchart(key) {\n",
              "          const quickchartButtonEl =\n",
              "            document.querySelector('#' + key + ' button');\n",
              "          quickchartButtonEl.disabled = true;  // To prevent multiple clicks.\n",
              "          quickchartButtonEl.classList.add('colab-df-spinner');\n",
              "          try {\n",
              "            const charts = await google.colab.kernel.invokeFunction(\n",
              "                'suggestCharts', [key], {});\n",
              "          } catch (error) {\n",
              "            console.error('Error during call to suggestCharts:', error);\n",
              "          }\n",
              "          quickchartButtonEl.classList.remove('colab-df-spinner');\n",
              "          quickchartButtonEl.classList.add('colab-df-quickchart-complete');\n",
              "        }\n",
              "        (() => {\n",
              "          let quickchartButtonEl =\n",
              "            document.querySelector('#df-82960d70-164f-4291-8cb9-db5e02808cbc button');\n",
              "          quickchartButtonEl.style.display =\n",
              "            google.colab.kernel.accessAllowed ? 'block' : 'none';\n",
              "        })();\n",
              "      </script>\n",
              "    </div>\n",
              "\n",
              "    </div>\n",
              "  </div>\n"
            ],
            "application/vnd.google.colaboratory.intrinsic+json": {
              "type": "dataframe",
              "variable_name": "df",
              "summary": "{\n  \"name\": \"df\",\n  \"rows\": 1260,\n  \"fields\": [\n    {\n      \"column\": \"Price,Adj Close,Close,High,Low,Open,Volume\",\n      \"properties\": {\n        \"dtype\": \"string\",\n        \"num_unique_values\": 1260,\n        \"samples\": [\n          \"2020-04-20 00:00:00+00:00,62.8297348,63.05749893,63.8409996,62.8219986,63.49449921,35292000\",\n          \"2024-01-29 00:00:00+00:00,152.9555054,153.5099945,153.7799988,151.4299927,152.0599976,27784300\",\n          \"2020-03-03 00:00:00+00:00,66.64441681,66.88600159,70.40950012,66.46199799,69.88400269,56602000\"\n        ],\n        \"semantic_type\": \"\",\n        \"description\": \"\"\n      }\n    }\n  ]\n}"
            }
          },
          "metadata": {},
          "execution_count": 5
        }
      ]
    },
    {
      "cell_type": "code",
      "source": [
        "# Shape of the dataset\n",
        "print(\"Shape:\", df.shape)\n",
        "# Column names\n",
        "print(\"Columns:\", df.columns.tolist())\n",
        "# Data types and non-null values\n",
        "df.info()\n",
        "# Summary statistics for numeric features\n",
        "df.describe()"
      ],
      "metadata": {
        "colab": {
          "base_uri": "https://localhost:8080/",
          "height": 348
        },
        "id": "J-C037IzagtM",
        "outputId": "3aeb80cb-5539-4f70-96c0-f3de3de3966d"
      },
      "execution_count": null,
      "outputs": [
        {
          "output_type": "stream",
          "name": "stdout",
          "text": [
            "Shape: (1260, 1)\n",
            "Columns: ['Price,Adj Close,Close,High,Low,Open,Volume']\n",
            "<class 'pandas.core.frame.DataFrame'>\n",
            "RangeIndex: 1260 entries, 0 to 1259\n",
            "Data columns (total 1 columns):\n",
            " #   Column                                      Non-Null Count  Dtype \n",
            "---  ------                                      --------------  ----- \n",
            " 0   Price,Adj Close,Close,High,Low,Open,Volume  1260 non-null   object\n",
            "dtypes: object(1)\n",
            "memory usage: 10.0+ KB\n"
          ]
        },
        {
          "output_type": "execute_result",
          "data": {
            "text/plain": [
              "               Price,Adj Close,Close,High,Low,Open,Volume\n",
              "count                                                1260\n",
              "unique                                               1260\n",
              "top     2024-12-31 00:00:00+00:00,189.3000031,189.3000...\n",
              "freq                                                    1"
            ],
            "text/html": [
              "\n",
              "  <div id=\"df-07d09ae0-adb2-4224-812d-49f8d7f368c3\" class=\"colab-df-container\">\n",
              "    <div>\n",
              "<style scoped>\n",
              "    .dataframe tbody tr th:only-of-type {\n",
              "        vertical-align: middle;\n",
              "    }\n",
              "\n",
              "    .dataframe tbody tr th {\n",
              "        vertical-align: top;\n",
              "    }\n",
              "\n",
              "    .dataframe thead th {\n",
              "        text-align: right;\n",
              "    }\n",
              "</style>\n",
              "<table border=\"1\" class=\"dataframe\">\n",
              "  <thead>\n",
              "    <tr style=\"text-align: right;\">\n",
              "      <th></th>\n",
              "      <th>Price,Adj Close,Close,High,Low,Open,Volume</th>\n",
              "    </tr>\n",
              "  </thead>\n",
              "  <tbody>\n",
              "    <tr>\n",
              "      <th>count</th>\n",
              "      <td>1260</td>\n",
              "    </tr>\n",
              "    <tr>\n",
              "      <th>unique</th>\n",
              "      <td>1260</td>\n",
              "    </tr>\n",
              "    <tr>\n",
              "      <th>top</th>\n",
              "      <td>2024-12-31 00:00:00+00:00,189.3000031,189.3000...</td>\n",
              "    </tr>\n",
              "    <tr>\n",
              "      <th>freq</th>\n",
              "      <td>1</td>\n",
              "    </tr>\n",
              "  </tbody>\n",
              "</table>\n",
              "</div>\n",
              "    <div class=\"colab-df-buttons\">\n",
              "\n",
              "  <div class=\"colab-df-container\">\n",
              "    <button class=\"colab-df-convert\" onclick=\"convertToInteractive('df-07d09ae0-adb2-4224-812d-49f8d7f368c3')\"\n",
              "            title=\"Convert this dataframe to an interactive table.\"\n",
              "            style=\"display:none;\">\n",
              "\n",
              "  <svg xmlns=\"http://www.w3.org/2000/svg\" height=\"24px\" viewBox=\"0 -960 960 960\">\n",
              "    <path d=\"M120-120v-720h720v720H120Zm60-500h600v-160H180v160Zm220 220h160v-160H400v160Zm0 220h160v-160H400v160ZM180-400h160v-160H180v160Zm440 0h160v-160H620v160ZM180-180h160v-160H180v160Zm440 0h160v-160H620v160Z\"/>\n",
              "  </svg>\n",
              "    </button>\n",
              "\n",
              "  <style>\n",
              "    .colab-df-container {\n",
              "      display:flex;\n",
              "      gap: 12px;\n",
              "    }\n",
              "\n",
              "    .colab-df-convert {\n",
              "      background-color: #E8F0FE;\n",
              "      border: none;\n",
              "      border-radius: 50%;\n",
              "      cursor: pointer;\n",
              "      display: none;\n",
              "      fill: #1967D2;\n",
              "      height: 32px;\n",
              "      padding: 0 0 0 0;\n",
              "      width: 32px;\n",
              "    }\n",
              "\n",
              "    .colab-df-convert:hover {\n",
              "      background-color: #E2EBFA;\n",
              "      box-shadow: 0px 1px 2px rgba(60, 64, 67, 0.3), 0px 1px 3px 1px rgba(60, 64, 67, 0.15);\n",
              "      fill: #174EA6;\n",
              "    }\n",
              "\n",
              "    .colab-df-buttons div {\n",
              "      margin-bottom: 4px;\n",
              "    }\n",
              "\n",
              "    [theme=dark] .colab-df-convert {\n",
              "      background-color: #3B4455;\n",
              "      fill: #D2E3FC;\n",
              "    }\n",
              "\n",
              "    [theme=dark] .colab-df-convert:hover {\n",
              "      background-color: #434B5C;\n",
              "      box-shadow: 0px 1px 3px 1px rgba(0, 0, 0, 0.15);\n",
              "      filter: drop-shadow(0px 1px 2px rgba(0, 0, 0, 0.3));\n",
              "      fill: #FFFFFF;\n",
              "    }\n",
              "  </style>\n",
              "\n",
              "    <script>\n",
              "      const buttonEl =\n",
              "        document.querySelector('#df-07d09ae0-adb2-4224-812d-49f8d7f368c3 button.colab-df-convert');\n",
              "      buttonEl.style.display =\n",
              "        google.colab.kernel.accessAllowed ? 'block' : 'none';\n",
              "\n",
              "      async function convertToInteractive(key) {\n",
              "        const element = document.querySelector('#df-07d09ae0-adb2-4224-812d-49f8d7f368c3');\n",
              "        const dataTable =\n",
              "          await google.colab.kernel.invokeFunction('convertToInteractive',\n",
              "                                                    [key], {});\n",
              "        if (!dataTable) return;\n",
              "\n",
              "        const docLinkHtml = 'Like what you see? Visit the ' +\n",
              "          '<a target=\"_blank\" href=https://colab.research.google.com/notebooks/data_table.ipynb>data table notebook</a>'\n",
              "          + ' to learn more about interactive tables.';\n",
              "        element.innerHTML = '';\n",
              "        dataTable['output_type'] = 'display_data';\n",
              "        await google.colab.output.renderOutput(dataTable, element);\n",
              "        const docLink = document.createElement('div');\n",
              "        docLink.innerHTML = docLinkHtml;\n",
              "        element.appendChild(docLink);\n",
              "      }\n",
              "    </script>\n",
              "  </div>\n",
              "\n",
              "\n",
              "    <div id=\"df-1a2c211a-9c81-4681-b0b5-73a7e17282b4\">\n",
              "      <button class=\"colab-df-quickchart\" onclick=\"quickchart('df-1a2c211a-9c81-4681-b0b5-73a7e17282b4')\"\n",
              "                title=\"Suggest charts\"\n",
              "                style=\"display:none;\">\n",
              "\n",
              "<svg xmlns=\"http://www.w3.org/2000/svg\" height=\"24px\"viewBox=\"0 0 24 24\"\n",
              "     width=\"24px\">\n",
              "    <g>\n",
              "        <path d=\"M19 3H5c-1.1 0-2 .9-2 2v14c0 1.1.9 2 2 2h14c1.1 0 2-.9 2-2V5c0-1.1-.9-2-2-2zM9 17H7v-7h2v7zm4 0h-2V7h2v10zm4 0h-2v-4h2v4z\"/>\n",
              "    </g>\n",
              "</svg>\n",
              "      </button>\n",
              "\n",
              "<style>\n",
              "  .colab-df-quickchart {\n",
              "      --bg-color: #E8F0FE;\n",
              "      --fill-color: #1967D2;\n",
              "      --hover-bg-color: #E2EBFA;\n",
              "      --hover-fill-color: #174EA6;\n",
              "      --disabled-fill-color: #AAA;\n",
              "      --disabled-bg-color: #DDD;\n",
              "  }\n",
              "\n",
              "  [theme=dark] .colab-df-quickchart {\n",
              "      --bg-color: #3B4455;\n",
              "      --fill-color: #D2E3FC;\n",
              "      --hover-bg-color: #434B5C;\n",
              "      --hover-fill-color: #FFFFFF;\n",
              "      --disabled-bg-color: #3B4455;\n",
              "      --disabled-fill-color: #666;\n",
              "  }\n",
              "\n",
              "  .colab-df-quickchart {\n",
              "    background-color: var(--bg-color);\n",
              "    border: none;\n",
              "    border-radius: 50%;\n",
              "    cursor: pointer;\n",
              "    display: none;\n",
              "    fill: var(--fill-color);\n",
              "    height: 32px;\n",
              "    padding: 0;\n",
              "    width: 32px;\n",
              "  }\n",
              "\n",
              "  .colab-df-quickchart:hover {\n",
              "    background-color: var(--hover-bg-color);\n",
              "    box-shadow: 0 1px 2px rgba(60, 64, 67, 0.3), 0 1px 3px 1px rgba(60, 64, 67, 0.15);\n",
              "    fill: var(--button-hover-fill-color);\n",
              "  }\n",
              "\n",
              "  .colab-df-quickchart-complete:disabled,\n",
              "  .colab-df-quickchart-complete:disabled:hover {\n",
              "    background-color: var(--disabled-bg-color);\n",
              "    fill: var(--disabled-fill-color);\n",
              "    box-shadow: none;\n",
              "  }\n",
              "\n",
              "  .colab-df-spinner {\n",
              "    border: 2px solid var(--fill-color);\n",
              "    border-color: transparent;\n",
              "    border-bottom-color: var(--fill-color);\n",
              "    animation:\n",
              "      spin 1s steps(1) infinite;\n",
              "  }\n",
              "\n",
              "  @keyframes spin {\n",
              "    0% {\n",
              "      border-color: transparent;\n",
              "      border-bottom-color: var(--fill-color);\n",
              "      border-left-color: var(--fill-color);\n",
              "    }\n",
              "    20% {\n",
              "      border-color: transparent;\n",
              "      border-left-color: var(--fill-color);\n",
              "      border-top-color: var(--fill-color);\n",
              "    }\n",
              "    30% {\n",
              "      border-color: transparent;\n",
              "      border-left-color: var(--fill-color);\n",
              "      border-top-color: var(--fill-color);\n",
              "      border-right-color: var(--fill-color);\n",
              "    }\n",
              "    40% {\n",
              "      border-color: transparent;\n",
              "      border-right-color: var(--fill-color);\n",
              "      border-top-color: var(--fill-color);\n",
              "    }\n",
              "    60% {\n",
              "      border-color: transparent;\n",
              "      border-right-color: var(--fill-color);\n",
              "    }\n",
              "    80% {\n",
              "      border-color: transparent;\n",
              "      border-right-color: var(--fill-color);\n",
              "      border-bottom-color: var(--fill-color);\n",
              "    }\n",
              "    90% {\n",
              "      border-color: transparent;\n",
              "      border-bottom-color: var(--fill-color);\n",
              "    }\n",
              "  }\n",
              "</style>\n",
              "\n",
              "      <script>\n",
              "        async function quickchart(key) {\n",
              "          const quickchartButtonEl =\n",
              "            document.querySelector('#' + key + ' button');\n",
              "          quickchartButtonEl.disabled = true;  // To prevent multiple clicks.\n",
              "          quickchartButtonEl.classList.add('colab-df-spinner');\n",
              "          try {\n",
              "            const charts = await google.colab.kernel.invokeFunction(\n",
              "                'suggestCharts', [key], {});\n",
              "          } catch (error) {\n",
              "            console.error('Error during call to suggestCharts:', error);\n",
              "          }\n",
              "          quickchartButtonEl.classList.remove('colab-df-spinner');\n",
              "          quickchartButtonEl.classList.add('colab-df-quickchart-complete');\n",
              "        }\n",
              "        (() => {\n",
              "          let quickchartButtonEl =\n",
              "            document.querySelector('#df-1a2c211a-9c81-4681-b0b5-73a7e17282b4 button');\n",
              "          quickchartButtonEl.style.display =\n",
              "            google.colab.kernel.accessAllowed ? 'block' : 'none';\n",
              "        })();\n",
              "      </script>\n",
              "    </div>\n",
              "\n",
              "    </div>\n",
              "  </div>\n"
            ],
            "application/vnd.google.colaboratory.intrinsic+json": {
              "type": "dataframe",
              "summary": "{\n  \"name\": \"df\",\n  \"rows\": 4,\n  \"fields\": [\n    {\n      \"column\": \"Price,Adj Close,Close,High,Low,Open,Volume\",\n      \"properties\": {\n        \"dtype\": \"string\",\n        \"num_unique_values\": 3,\n        \"samples\": [\n          \"1260\",\n          \"2024-12-31 00:00:00+00:00,189.3000031,189.3000031,191.9600067,188.5099945,191.0800018,17466900\",\n          \"1\"\n        ],\n        \"semantic_type\": \"\",\n        \"description\": \"\"\n      }\n    }\n  ]\n}"
            }
          },
          "metadata": {},
          "execution_count": 6
        }
      ]
    },
    {
      "cell_type": "markdown",
      "source": [
        "Check for Missing Values and Duplicates"
      ],
      "metadata": {
        "id": "RrVHQU87armf"
      }
    },
    {
      "cell_type": "code",
      "source": [
        "# Check for missing values\n",
        "print(df.isnull().sum())\n",
        "# Check for duplicates\n",
        "print(\"Duplicate rows:\", df.duplicated().sum())"
      ],
      "metadata": {
        "colab": {
          "base_uri": "https://localhost:8080/"
        },
        "id": "Pm-mGMOBavwj",
        "outputId": "7a2bc77f-d884-4901-a162-d4955a4e7bea"
      },
      "execution_count": null,
      "outputs": [
        {
          "output_type": "stream",
          "name": "stdout",
          "text": [
            "Price,Adj Close,Close,High,Low,Open,Volume    0\n",
            "dtype: int64\n",
            "Duplicate rows: 0\n"
          ]
        }
      ]
    },
    {
      "cell_type": "markdown",
      "source": [
        "Visualize a Few Features"
      ],
      "metadata": {
        "id": "hzCdSWR5oLBI"
      }
    },
    {
      "cell_type": "code",
      "source": [
        "# Visualizing the stock's closing price with annotations\n",
        "plt.figure(figsize=(12, 6))\n",
        "plt.plot(stock_data['Close'], label=f'{stock_ticker} Close Price', color='blue')\n",
        "plt.title(f\"{stock_ticker} Stock Price with Annotations\")\n",
        "plt.xlabel('Date')\n",
        "plt.ylabel('Price ($)')\n",
        "plt.legend(loc='best')\n",
        "\n",
        "# Mark a few key events, for instance, a notable price drop or rise (customize this as needed)\n",
        "# Use index-based access to select a date from stock_data's DateTime index\n",
        "date_of_interest = pd.Timestamp('2021-01-01')  # Specify the date you want to annotate\n",
        "if date_of_interest in stock_data.index:\n",
        "    plt.annotate('Price Spike',\n",
        "                 xy=(date_of_interest, stock_data.loc[date_of_interest, 'Close']),\n",
        "                 xytext=(pd.Timestamp('2020-06-01'), stock_data.loc[pd.Timestamp('2020-06-01'), 'Close'] + 10),\n",
        "                 arrowprops=dict(facecolor='red', shrink=0.05))\n",
        "\n",
        "plt.grid(True)\n",
        "plt.show()\n"
      ],
      "metadata": {
        "colab": {
          "base_uri": "https://localhost:8080/",
          "height": 564
        },
        "id": "FkKEr8ForMJB",
        "outputId": "ff5a1f4d-d724-4593-bcf3-8a8fc2429ab7"
      },
      "execution_count": null,
      "outputs": [
        {
          "output_type": "display_data",
          "data": {
            "text/plain": [
              "<Figure size 1200x600 with 1 Axes>"
            ],
            "image/png": "[encoded data removed]"
          },
          "metadata": {}
        }
      ]
    },
    {
      "cell_type": "markdown",
      "source": [
        "Identify Target and Features"
      ],
      "metadata": {
        "id": "-IS4wSplrSHg"
      }
    },
    {
      "cell_type": "code",
      "source": [
        "import yfinance as yf\n",
        "import pandas as pd\n",
        "import numpy as np\n",
        "import matplotlib.pyplot as plt\n",
        "\n",
        "# Fetch the stock data using Yahoo Finance (you can replace 'AAPL' with any stock ticker)\n",
        "stock_ticker = 'AAPL'  # Apple as an example\n",
        "start_date = '2020-01-01'\n",
        "end_date = '2025-01-01'\n",
        "\n",
        "# Download stock data from Yahoo Finance\n",
        "stock_data = yf.download(stock_ticker, start=start_date, end=end_date)\n",
        "\n",
        "# Display the first few rows of the stock data\n",
        "print(stock_data.head())\n",
        "\n",
        "# --- Feature Engineering ---\n",
        "\n",
        "# 1. Calculate Daily Returns (percentage change)\n",
        "stock_data['Daily_Return'] = stock_data['Close'].pct_change()\n",
        "\n",
        "# 2. Moving Averages (50-day and 200-day)\n",
        "stock_data['50_MA'] = stock_data['Close'].rolling(window=50).mean()\n",
        "stock_data['200_MA'] = stock_data['Close'].rolling(window=200).mean()\n",
        "\n",
        "# 3. Volatility (Rolling standard deviation)\n",
        "stock_data['Volatility'] = stock_data['Close'].rolling(window=50).std()\n",
        "\n",
        "# 4. Trading Volume (can be used as a feature)\n",
        "stock_data['Volume'] = stock_data['Volume']\n",
        "\n",
        "# 5. Lag Features (Previous day's closing price, etc.)\n",
        "stock_data['Prev_Close'] = stock_data['Close'].shift(1)\n",
        "\n",
        "# 6. Lag Returns (Previous day's returns)\n",
        "stock_data['Prev_Return'] = stock_data['Daily_Return'].shift(1)\n",
        "\n",
        "# --- Define Target Variable ---\n",
        "# Predicting the next day's closing price\n",
        "stock_data['Target'] = stock_data['Close'].shift(-1)\n",
        "\n",
        "# Drop rows with missing values (e.g., from shifting data)\n",
        "stock_data.dropna(inplace=True)\n",
        "\n",
        "# Display the first few rows of the dataset with new features\n",
        "print(stock_data.head())\n",
        "\n",
        "# --- Visualizations (Optional) ---\n",
        "# Visualizing the features like moving averages and closing price\n",
        "plt.figure(figsize=(12, 6))\n",
        "plt.plot(stock_data['Close'], label='Stock Price (Close)', color='blue', linewidth=1)\n",
        "plt.plot(stock_data['50_MA'], label='50-day Moving Average', color='orange', linestyle='--')\n",
        "plt.plot(stock_data['200_MA'], label='200-day Moving Average', color='green', linestyle='--')\n",
        "plt.title(f\"{stock_ticker} Stock Price and Moving Averages\")\n",
        "plt.xlabel('Date')\n",
        "plt.ylabel('Price ($)')\n",
        "plt.legend(loc='best')\n",
        "plt.grid(True)\n",
        "plt.show()\n",
        "\n",
        "# Visualizing the stock volatility\n",
        "plt.figure(figsize=(12, 6))\n",
        "plt.plot(stock_data['Volatility'], label='50-day Rolling Volatility', color='red')\n",
        "plt.title(f\"{stock_ticker} Volatility (50-day Rolling Std Dev)\")\n",
        "plt.xlabel('Date')\n",
        "plt.ylabel('Volatility')\n",
        "plt.legend(loc='best')\n",
        "plt.grid(True)\n",
        "plt.show()\n",
        "\n",
        "# --- Conclusion ---\n",
        "# The target is the 'Target' column, which represents the next day's closing price.\n",
        "# The features include:\n",
        "# - Daily returns\n",
        "# - Moving averages (50-day and 200-day)\n",
        "# - Volatility (50-day rolling standard deviation)\n",
        "# - Trading volume\n",
        "# - Lag features (previous day's close and return)\n"
      ],
      "metadata": {
        "colab": {
          "base_uri": "https://localhost:8080/",
          "height": 1000
        },
        "id": "dK-EXrj0rVh3",
        "outputId": "e87711be-3b32-4d71-b5ac-8a3b2999ce62"
      },
      "execution_count": null,
      "outputs": [
        {
          "output_type": "stream",
          "name": "stdout",
          "text": [
            "YF.download() has changed argument auto_adjust default to True\n"
          ]
        },
        {
          "output_type": "stream",
          "name": "stderr",
          "text": [
            "\r[*********************100%***********************]  1 of 1 completed\n",
            "ERROR:yfinance:\n",
            "1 Failed download:\n",
            "ERROR:yfinance:['AAPL']: YFRateLimitError('Too Many Requests. Rate limited. Try after a while.')\n"
          ]
        },
        {
          "output_type": "stream",
          "name": "stdout",
          "text": [
            "Empty DataFrame\n",
            "Columns: [(Adj Close, AAPL), (Close, AAPL), (High, AAPL), (Low, AAPL), (Open, AAPL), (Volume, AAPL)]\n",
            "Index: []\n",
            "Empty DataFrame\n",
            "Columns: [(Adj Close, AAPL), (Close, AAPL), (High, AAPL), (Low, AAPL), (Open, AAPL), (Volume, AAPL), (Daily_Return, ), (50_MA, ), (200_MA, ), (Volatility, ), (Prev_Close, ), (Prev_Return, ), (Target, )]\n",
            "Index: []\n"
          ]
        },
        {
          "output_type": "display_data",
          "data": {
            "text/plain": [
              "<Figure size 1200x600 with 1 Axes>"
            ],
            "image/png": "[encoded data removed]"
          },
          "metadata": {}
        },
        {
          "output_type": "display_data",
          "data": {
            "text/plain": [
              "<Figure size 1200x600 with 1 Axes>"
            ],
            "image/png": "[encoded data removed]"
          },
          "metadata": {}
        }
      ]
    },
    {
      "cell_type": "markdown",
      "source": [
        "Convert Categorical Columns to Numerical"
      ],
      "metadata": {
        "id": "K-k58vcCrk2o"
      }
    },
    {
      "cell_type": "code",
      "source": [
        "import pandas as pd\n",
        "import yfinance as yf\n",
        "from sklearn.preprocessing import LabelEncoder\n",
        "\n",
        "# Fetch the stock data using Yahoo Finance (you can replace 'AAPL' with any stock ticker)\n",
        "stock_ticker = 'AAPL'  # Apple as an example\n",
        "start_date = '2020-01-01'\n",
        "end_date = '2025-01-01'\n",
        "\n",
        "# Download stock data from Yahoo Finance\n",
        "stock_data = yf.download(stock_ticker, start=start_date, end=end_date)\n",
        "\n",
        "# Suppose we have some categorical data like 'Sector' or 'Market' (for illustration)\n",
        "# For the sake of the example, let's create a mock 'Sector' column\n",
        "# In real scenarios, you'd have such columns in your dataset.\n",
        "stock_data['Sector'] = ['Tech', 'Tech', 'Health', 'Tech', 'Health', 'Finance', 'Tech', 'Finance', 'Health', 'Tech']\n",
        "\n",
        "# Display the first few rows of the stock data with 'Sector' column\n",
        "print(\"Original Data with Categorical 'Sector':\")\n",
        "print(stock_data.head())\n",
        "\n",
        "# --- 1. Label Encoding: Converting 'Sector' to numerical labels ---\n",
        "label_encoder = LabelEncoder()\n",
        "\n",
        "# Apply label encoding on the 'Sector' column\n",
        "stock_data['Sector_Label'] = label_encoder.fit_transform(stock_data['Sector'])\n",
        "\n",
        "# Display the updated DataFrame with Label Encoded column\n",
        "print(\"\\nAfter Label Encoding 'Sector':\")\n",
        "print(stock_data[['Sector', 'Sector_Label']].head())\n",
        "\n",
        "# --- 2. One-Hot Encoding: Creating binary columns for each category in 'Sector' ---\n",
        "stock_data_encoded = pd.get_dummies(stock_data, columns=['Sector'], drop_first=False)\n",
        "\n",
        "# Display the updated DataFrame with One-Hot Encoded columns\n",
        "print(\"\\nAfter One-Hot Encoding 'Sector':\")\n",
        "print(stock_data_encoded.head())\n"
      ],
      "metadata": {
        "colab": {
          "base_uri": "https://localhost:8080/"
        },
        "id": "UzlKqCuarp5w",
        "outputId": "a52007b4-e4c3-4288-e021-cb6a02e2d2be"
      },
      "execution_count": null,
      "outputs": [
        {
          "output_type": "stream",
          "name": "stderr",
          "text": [
            "\r[*********************100%***********************]  1 of 1 completed\n",
            "ERROR:yfinance:\n",
            "1 Failed download:\n",
            "ERROR:yfinance:['AAPL']: YFRateLimitError('Too Many Requests. Rate limited. Try after a while.')\n"
          ]
        },
        {
          "output_type": "stream",
          "name": "stdout",
          "text": [
            "Original Data with Categorical 'Sector':\n",
            "Price  Adj Close Close High  Low Open Volume  Sector\n",
            "Ticker      AAPL  AAPL AAPL AAPL AAPL   AAPL        \n",
            "Date                                                \n",
            "0            NaN   NaN  NaN  NaN  NaN    NaN    Tech\n",
            "1            NaN   NaN  NaN  NaN  NaN    NaN    Tech\n",
            "2            NaN   NaN  NaN  NaN  NaN    NaN  Health\n",
            "3            NaN   NaN  NaN  NaN  NaN    NaN    Tech\n",
            "4            NaN   NaN  NaN  NaN  NaN    NaN  Health\n",
            "\n",
            "After Label Encoding 'Sector':\n",
            "Price   Sector Sector_Label\n",
            "Ticker                     \n",
            "Date                       \n",
            "0         Tech            2\n",
            "1         Tech            2\n",
            "2       Health            1\n",
            "3         Tech            2\n",
            "4       Health            1\n",
            "\n",
            "After One-Hot Encoding 'Sector':\n",
            "      (Adj Close, AAPL)  (Close, AAPL)  (High, AAPL)  (Low, AAPL)  \\\n",
            "Date                                                                \n",
            "0                   NaN            NaN           NaN          NaN   \n",
            "1                   NaN            NaN           NaN          NaN   \n",
            "2                   NaN            NaN           NaN          NaN   \n",
            "3                   NaN            NaN           NaN          NaN   \n",
            "4                   NaN            NaN           NaN          NaN   \n",
            "\n",
            "      (Open, AAPL)  (Volume, AAPL)  (Sector_Label, )  ('Sector', '')_Finance  \\\n",
            "Date                                                                           \n",
            "0              NaN             NaN                 2                   False   \n",
            "1              NaN             NaN                 2                   False   \n",
            "2              NaN             NaN                 1                   False   \n",
            "3              NaN             NaN                 2                   False   \n",
            "4              NaN             NaN                 1                   False   \n",
            "\n",
            "      ('Sector', '')_Health  ('Sector', '')_Tech  \n",
            "Date                                              \n",
            "0                     False                 True  \n",
            "1                     False                 True  \n",
            "2                      True                False  \n",
            "3                     False                 True  \n",
            "4                      True                False  \n"
          ]
        }
      ]
    },
    {
      "cell_type": "markdown",
      "source": [
        "One-Hot Encoding"
      ],
      "metadata": {
        "id": "nwavTQBRr9Eo"
      }
    },
    {
      "cell_type": "code",
      "source": [
        "import pandas as pd\n",
        "import yfinance as yf\n",
        "\n",
        "# Fetch stock data using Yahoo Finance (you can replace 'AAPL' with any stock ticker)\n",
        "stock_ticker = 'AAPL'  # Example: Apple\n",
        "start_date = '2020-01-01'\n",
        "end_date = '2025-01-01'\n",
        "\n",
        "# Download stock data from Yahoo Finance\n",
        "stock_data = yf.download(stock_ticker, start=start_date, end=end_date)\n",
        "\n",
        "# For the sake of this example, let's assume 'Sector' is a column that contains categorical data\n",
        "# We'll mock this data for illustration purposes\n",
        "# In practice, you might get this from another source or API.\n",
        "stock_data['Sector'] = ['Tech', 'Tech', 'Health', 'Tech', 'Health', 'Finance', 'Tech', 'Finance', 'Health', 'Tech']\n",
        "\n",
        "# Let's assume you also have 'Stock Ticker' as a categorical column\n",
        "stock_data['Stock Ticker'] = stock_ticker  # In this example, it's just 'AAPL'\n",
        "\n",
        "# Display original stock data\n",
        "print(\"Original Data with Categorical Columns:\")\n",
        "print(stock_data.head())\n",
        "\n",
        "# --- One-Hot Encoding: Creating binary columns for each category ---\n",
        "# Using pd.get_dummies to perform one-hot encoding on the 'Sector' and 'Stock Ticker' columns\n",
        "stock_data_encoded = pd.get_dummies(stock_data, columns=['Sector', 'Stock Ticker'], drop_first=False)\n",
        "\n",
        "# Display the DataFrame after one-hot encoding\n",
        "print(\"\\nData After One-Hot Encoding:\")\n",
        "print(stock_data_encoded.head())\n"
      ],
      "metadata": {
        "colab": {
          "base_uri": "https://localhost:8080/"
        },
        "id": "ocOB4HuDr_4u",
        "outputId": "f04a4a8e-bbdd-4c83-be1b-3d773c07cd09"
      },
      "execution_count": null,
      "outputs": [
        {
          "output_type": "stream",
          "name": "stderr",
          "text": [
            "\r[*********************100%***********************]  1 of 1 completed\n",
            "ERROR:yfinance:\n",
            "1 Failed download:\n",
            "ERROR:yfinance:['AAPL']: YFRateLimitError('Too Many Requests. Rate limited. Try after a while.')\n"
          ]
        },
        {
          "output_type": "stream",
          "name": "stdout",
          "text": [
            "Original Data with Categorical Columns:\n",
            "Price  Adj Close Close High  Low Open Volume  Sector Stock Ticker\n",
            "Ticker      AAPL  AAPL AAPL AAPL AAPL   AAPL                     \n",
            "Date                                                             \n",
            "0            NaN   NaN  NaN  NaN  NaN    NaN    Tech         AAPL\n",
            "1            NaN   NaN  NaN  NaN  NaN    NaN    Tech         AAPL\n",
            "2            NaN   NaN  NaN  NaN  NaN    NaN  Health         AAPL\n",
            "3            NaN   NaN  NaN  NaN  NaN    NaN    Tech         AAPL\n",
            "4            NaN   NaN  NaN  NaN  NaN    NaN  Health         AAPL\n",
            "\n",
            "Data After One-Hot Encoding:\n",
            "      (Adj Close, AAPL)  (Close, AAPL)  (High, AAPL)  (Low, AAPL)  \\\n",
            "Date                                                                \n",
            "0                   NaN            NaN           NaN          NaN   \n",
            "1                   NaN            NaN           NaN          NaN   \n",
            "2                   NaN            NaN           NaN          NaN   \n",
            "3                   NaN            NaN           NaN          NaN   \n",
            "4                   NaN            NaN           NaN          NaN   \n",
            "\n",
            "      (Open, AAPL)  (Volume, AAPL)  ('Sector', '')_Finance  \\\n",
            "Date                                                         \n",
            "0              NaN             NaN                   False   \n",
            "1              NaN             NaN                   False   \n",
            "2              NaN             NaN                   False   \n",
            "3              NaN             NaN                   False   \n",
            "4              NaN             NaN                   False   \n",
            "\n",
            "      ('Sector', '')_Health  ('Sector', '')_Tech  ('Stock Ticker', '')_AAPL  \n",
            "Date                                                                         \n",
            "0                     False                 True                       True  \n",
            "1                     False                 True                       True  \n",
            "2                      True                False                       True  \n",
            "3                     False                 True                       True  \n",
            "4                      True                False                       True  \n"
          ]
        }
      ]
    },
    {
      "cell_type": "markdown",
      "source": [
        "Feature Scaling"
      ],
      "metadata": {
        "id": "pQCQf7fUskcu"
      }
    },
    {
      "cell_type": "code",
      "source": [
        "import yfinance as yf\n",
        "import pandas as pd\n",
        "import numpy as np\n",
        "from sklearn.preprocessing import MinMaxScaler, StandardScaler\n",
        "from sklearn.model_selection import train_test_split\n",
        "import matplotlib.pyplot as plt\n",
        "from sklearn.linear_model import LinearRegression\n",
        "\n",
        "# Step 1: Fetch Stock Data from Yahoo Finance\n",
        "ticker = 'AAPL'  # Example: Apple stock, you can change this to any stock ticker symbol\n",
        "start_date = '2020-01-01'  # Start date for the time series data\n",
        "end_date = '2025-01-01'    # End date for the time series data\n",
        "\n",
        "data = yf.download(ticker, start=start_date, end=end_date)\n",
        "\n",
        "# Step 2: Feature Engineering (Creating new features like moving averages and returns)\n",
        "data['7_day_MA'] = data['Close'].rolling(window=7).mean()  # 7-day moving average\n",
        "data['30_day_MA'] = data['Close'].rolling(window=30).mean()  # 30-day moving average\n",
        "data['Daily_Return'] = data['Close'].pct_change()  # Daily returns (percentage change)\n",
        "\n",
        "# Step 3: Drop missing values generated by moving averages and returns\n",
        "data.dropna(inplace=True)\n",
        "\n",
        "# Step 4: Select features and target variable\n",
        "features = ['Open', 'High', 'Low', 'Close', 'Volume', '7_day_MA', '30_day_MA', 'Daily_Return']\n",
        "target = 'Close'  # Predicting the closing price\n",
        "\n",
        "# Extract feature set (X) and target (y)\n",
        "X = data[features]\n",
        "y = data[target]\n",
        "\n",
        "# Step 5: Feature Scaling using MinMaxScaler (or StandardScaler)\n",
        "scaler = MinMaxScaler()  # Normalize\n"
      ],
      "metadata": {
        "colab": {
          "base_uri": "https://localhost:8080/"
        },
        "id": "qvRgq0-X5YVq",
        "outputId": "96853ac0-4c36-4a11-d4cf-95d2815d43af"
      },
      "execution_count": null,
      "outputs": [
        {
          "output_type": "stream",
          "name": "stderr",
          "text": [
            "\r[*********************100%***********************]  1 of 1 completed\n",
            "ERROR:yfinance:\n",
            "1 Failed download:\n",
            "ERROR:yfinance:['AAPL']: YFRateLimitError('Too Many Requests. Rate limited. Try after a while.')\n"
          ]
        }
      ]
    },
    {
      "cell_type": "markdown",
      "source": [
        "Train-Test Split"
      ],
      "metadata": {
        "id": "qOryvlFOxNI0"
      }
    },
    {
      "cell_type": "code",
      "source": [
        "import pandas as pd\n",
        "import yfinance as yf\n",
        "\n",
        "# Load historical stock data (you can change the ticker)\n",
        "stock_ticker = 'AAPL'\n",
        "data = yf.download(stock_ticker, start='2015-01-01', end='2024-12-31')\n",
        "\n",
        "# Optional: keep only relevant features\n",
        "features = ['Open', 'High', 'Low', 'Close', 'Volume']\n",
        "data = data[features]\n",
        "\n",
        "# Drop rows with missing values (if any)\n",
        "data.dropna(inplace=True)\n",
        "\n",
        "# Define train-test split size (e.g., 80% train, 20% test)\n",
        "train_size = int(len(data) * 0.8)\n",
        "\n",
        "# Split the data chronologically\n",
        "train_data = data[:train_size]\n",
        "test_data = data[train_size:]\n",
        "\n",
        "# Print info\n",
        "print(\"Total samples:\", len(data))\n",
        "print(\"Training samples:\", len(train_data))\n",
        "print(\"Testing samples:\", len(test_data))\n",
        "print(\"\\nTrain data preview:\")\n",
        "print(train_data.tail())\n",
        "print(\"\\nTest data preview:\")\n",
        "print(test_data.head())\n"
      ],
      "metadata": {
        "colab": {
          "base_uri": "https://localhost:8080/"
        },
        "id": "dAMZgh3dxQg5",
        "outputId": "bd9be4fd-937c-4065-bad0-c84afcd3f750"
      },
      "execution_count": null,
      "outputs": [
        {
          "output_type": "stream",
          "name": "stderr",
          "text": [
            "\r[*********************100%***********************]  1 of 1 completed\n",
            "ERROR:yfinance:\n",
            "1 Failed download:\n",
            "ERROR:yfinance:['AAPL']: YFRateLimitError('Too Many Requests. Rate limited. Try after a while.')\n"
          ]
        },
        {
          "output_type": "stream",
          "name": "stdout",
          "text": [
            "Total samples: 0\n",
            "Training samples: 0\n",
            "Testing samples: 0\n",
            "\n",
            "Train data preview:\n",
            "Empty DataFrame\n",
            "Columns: [(Open, AAPL), (High, AAPL), (Low, AAPL), (Close, AAPL), (Volume, AAPL)]\n",
            "Index: []\n",
            "\n",
            "Test data preview:\n",
            "Empty DataFrame\n",
            "Columns: [(Open, AAPL), (High, AAPL), (Low, AAPL), (Close, AAPL), (Volume, AAPL)]\n",
            "Index: []\n"
          ]
        }
      ]
    },
    {
      "cell_type": "markdown",
      "source": [
        "Model Building"
      ],
      "metadata": {
        "id": "0kRGqU3oxrhP"
      }
    },
    {
      "cell_type": "code",
      "source": [
        "import yfinance as yf\n",
        "import matplotlib.pyplot as plt\n",
        "\n",
        "# Step 1: Load stock data\n",
        "ticker = 'AAPL'\n",
        "start = '2020-01-01'\n",
        "end = '2025-01-01'\n",
        "df = yf.download(ticker, start=start, end=end)\n",
        "\n",
        "# Step 2: Use only 'Close' price\n",
        "df = df[['Close']].copy()\n",
        "\n",
        "# Step 3: Create prediction using 5-day moving average\n",
        "df['Predicted'] = df['Close'].rolling(window=5).mean()\n",
        "\n",
        "# Step 4: Drop NaN rows (first 4 will be NaN due to rolling)\n",
        "df.dropna(inplace=True)\n",
        "\n",
        "# Step 5: Plot actual vs predicted (no model.fit used)\n",
        "plt.figure(figsize=(10, 6))\n",
        "plt.plot(df['Close'], label='Actual Price', color='blue')\n",
        "plt.plot(df['Predicted'], label='5-Day Moving Avg Prediction', color='orange')\n",
        "plt.title(f'{ticker} Stock Price Prediction using Moving Average')\n",
        "plt.xlabel('Date')\n",
        "plt.ylabel('Price')\n",
        "plt.legend()\n",
        "plt.grid(True)\n",
        "plt.tight_layout()\n",
        "plt.show()\n"
      ],
      "metadata": {
        "colab": {
          "base_uri": "https://localhost:8080/",
          "height": 676
        },
        "id": "_eqXML-k-Ef6",
        "outputId": "ab2898c7-1f5c-45ce-f09c-f660dc6b4cf5"
      },
      "execution_count": null,
      "outputs": [
        {
          "output_type": "stream",
          "name": "stderr",
          "text": [
            "\r[*********************100%***********************]  1 of 1 completed\n",
            "ERROR:yfinance:\n",
            "1 Failed download:\n",
            "ERROR:yfinance:['AAPL']: YFRateLimitError('Too Many Requests. Rate limited. Try after a while.')\n"
          ]
        },
        {
          "output_type": "display_data",
          "data": {
            "text/plain": [
              "<Figure size 1000x600 with 1 Axes>"
            ],
            "image/png": "[encoded data removed]"
          },
          "metadata": {}
        }
      ]
    },
    {
      "cell_type": "markdown",
      "source": [
        "Evaluation"
      ],
      "metadata": {
        "id": "tIA8x35F-LI0"
      }
    },
    {
      "cell_type": "code",
      "source": [
        "from sklearn.metrics import mean_absolute_error, mean_squared_error, r2_score\n",
        "import numpy as np\n",
        "\n",
        "# Assume these are available from your model\n",
        "# Replace with your actual prediction and test values\n",
        "# y_test: actual values\n",
        "# y_pred: predicted values\n",
        "\n",
        "# Example dummy values (replace with real ones)\n",
        "# y_test = np.array([...])\n",
        "# y_pred = np.array([...])\n",
        "\n",
        "# --- Evaluation Metrics ---\n",
        "def evaluate_model(y_test, y_pred):\n",
        "    mae = mean_absolute_error(y_test, y_pred)\n",
        "    mse = mean_squared_error(y_test, y_pred)\n",
        "    rmse = np.sqrt(mse)\n",
        "    r2 = r2_score(y_test, y_pred)\n",
        "\n",
        "    print(\"📊 Model Evaluation Results:\")\n",
        "    print(f\"✅ MAE  (Mean Absolute Error):      {mae:.4f}\")\n",
        "    print(f\"✅ MSE  (Mean Squared Error):       {mse:.4f}\")\n",
        "    print(f\"✅ RMSE (Root Mean Squared Error):  {rmse:.4f}\")\n",
        "    print(f\"✅ R² Score:                        {r2:.4f}\")\n",
        "\n",
        "# Example usage\n",
        "# evaluate_model(y_test, y_pred)\n"
      ],
      "metadata": {
        "id": "0BCXa7Mi-MFy"
      },
      "execution_count": null,
      "outputs": []
    },
    {
      "cell_type": "markdown",
      "source": [
        "Make Predictions from New Input"
      ],
      "metadata": {
        "id": "kWaz_r4--pNb"
      }
    },
    {
      "cell_type": "code",
      "source": [
        "import numpy as np\n",
        "\n",
        "# Step 1: Input the last 5 stock prices from the user\n",
        "user_input = []\n",
        "print(\"Please input the last 5 stock prices:\")\n",
        "\n",
        "for i in range(5):\n",
        "    price = float(input(f\"Day {i+1} closing price: \"))  # Take user input for each day's closing price\n",
        "    user_input.append(price)\n",
        "\n",
        "# Step 2: Calculate the Moving Average of the last 5 stock prices\n",
        "moving_average = np.mean(user_input)\n",
        "\n",
        "# Step 3: Predict the next day's stock price using the Moving Average\n",
        "predicted_price = moving_average\n",
        "\n",
        "# Step 4: Output the predicted price\n",
        "print(f\"\\nPredicted next day's stock price using Moving Average: {predicted_price:.2f}\")\n"
      ],
      "metadata": {
        "colab": {
          "base_uri": "https://localhost:8080/"
        },
        "id": "2mwT8TtCCzpp",
        "outputId": "980534f0-4c36-4bd9-8f2f-240f5b7c876e"
      },
      "execution_count": null,
      "outputs": [
        {
          "output_type": "stream",
          "name": "stdout",
          "text": [
            "Please input the last 5 stock prices:\n",
            "Day 1 closing price: 55\n",
            "Day 2 closing price: 34\n",
            "Day 3 closing price: 76\n",
            "Day 4 closing price: 98\n",
            "Day 5 closing price: 45\n",
            "\n",
            "Predicted next day's stock price using Moving Average: 61.60\n"
          ]
        }
      ]
    },
    {
      "cell_type": "markdown",
      "source": [
        "Convert to DataFrame and Encode"
      ],
      "metadata": {
        "id": "M3gJi5ahDAmC"
      }
    },
    {
      "cell_type": "code",
      "source": [
        "import yfinance as yf\n",
        "import pandas as pd\n",
        "\n",
        "# Step 1: Download stock data (e.g., Apple stock data from Yahoo Finance)\n",
        "ticker = 'AAPL'  # You can change this to any stock symbol (e.g., 'GOOGL', 'TSLA')\n",
        "start = '2020-01-01'\n",
        "end = '2025-01-01'\n",
        "df = yf.download(ticker, start=start, end=end)\n",
        "\n",
        "# Step 2: Convert the stock data to a pandas DataFrame\n",
        "df = df[['Close']]  # Use only 'Close' price for prediction\n",
        "\n",
        "# Display the first 5 rows to show the DataFrame\n",
        "print(\"\\nStock Data as DataFrame:\")\n",
        "print(df.head())\n",
        "\n",
        "# Step 3: Normalize the stock prices using min-max normalization\n",
        "min_price = df['Close'].min()  # Minimum closing price\n",
        "max_price = df['Close'].max()  # Maximum closing price\n",
        "\n",
        "# Apply the min-max normalization formula\n",
        "df['Normalized_Close'] = (df['Close'] - min_price) / (max_price - min_price)\n",
        "\n",
        "# Display the normalized data\n",
        "print(\"\\nNormalized Stock Data:\")\n",
        "print(df.head())\n",
        "\n",
        "# Now the DataFrame contains the original 'Close' prices and the 'Normalized_Close' prices.\n"
      ],
      "metadata": {
        "colab": {
          "base_uri": "https://localhost:8080/"
        },
        "id": "mF3w_UEwDqBj",
        "outputId": "e9011bd4-2753-44c0-9831-87549e8b95e4"
      },
      "execution_count": null,
      "outputs": [
        {
          "output_type": "stream",
          "name": "stderr",
          "text": [
            "\r[*********************100%***********************]  1 of 1 completed\n",
            "ERROR:yfinance:\n",
            "1 Failed download:\n",
            "ERROR:yfinance:['AAPL']: YFRateLimitError('Too Many Requests. Rate limited. Try after a while.')\n"
          ]
        },
        {
          "output_type": "stream",
          "name": "stdout",
          "text": [
            "\n",
            "Stock Data as DataFrame:\n",
            "Empty DataFrame\n",
            "Columns: [(Close, AAPL)]\n",
            "Index: []\n",
            "\n",
            "Normalized Stock Data:\n",
            "Empty DataFrame\n",
            "Columns: [(Close, AAPL), (Normalized_Close, )]\n",
            "Index: []\n"
          ]
        }
      ]
    },
    {
      "cell_type": "markdown",
      "source": [
        "Predict the Final Grade"
      ],
      "metadata": {
        "id": "qFSj4KLsDswZ"
      }
    },
    {
      "cell_type": "code",
      "source": [
        "from sklearn.linear_model import LinearRegression\n",
        "import numpy as np\n",
        "\n",
        "# Step 1: Sample data — last 5 days of stock prices (can be hardcoded or entered by user)\n",
        "# You can change these values or ask user input\n",
        "last_prices = [150, 152, 153.5, 155, 157]  # Simulated \"test scores\" leading to final grade\n",
        "\n",
        "# Step 2: Prepare data for model\n",
        "# X = day indices (0 to len-1), y = stock prices\n",
        "X = np.array(range(len(last_prices))).reshape(-1, 1)\n",
        "y = np.array(last_prices)\n",
        "\n",
        "# Step 3: Train a simple Linear Regression model\n",
        "model = LinearRegression()\n",
        "model.fit(X, y)\n",
        "\n",
        "# Step 4: Predict the \"final grade\" — i.e., the next day's stock price\n",
        "next_day_index = len(last_prices)  # Predict for the next day\n",
        "predicted_price = model.predict([[next_day_index]])\n",
        "\n",
        "# Step 5: Show result\n",
        "print(f\"Predicted final stock price (like final grade): {predicted_price[0]:.2f}\")\n"
      ],
      "metadata": {
        "colab": {
          "base_uri": "https://localhost:8080/"
        },
        "id": "y69zo0QXDvsi",
        "outputId": "bc233460-da96-4573-8f28-e453f61718cc"
      },
      "execution_count": null,
      "outputs": [
        {
          "output_type": "stream",
          "name": "stdout",
          "text": [
            "Predicted final stock price (like final grade): 158.60\n"
          ]
        }
      ]
    },
    {
      "cell_type": "markdown",
      "source": [
        "Deployment-Building an Interactive App"
      ],
      "metadata": {
        "id": "9aDaab2UEHGJ"
      }
    },
    {
      "cell_type": "code",
      "source": [
        "from flask import Flask, render_template, request\n",
        "import numpy as np\n",
        "from sklearn.linear_model import LinearRegression\n",
        "\n",
        "app = Flask(__name__)\n",
        "\n",
        "# Step 1: Create the home route to render the HTML form\n",
        "@app.route('/')\n",
        "def home():\n",
        "    return render_template('index.html')  # Render the HTML page\n",
        "\n",
        "# Step 2: Create the predict route to handle the form submission\n",
        "@app.route('/predict', methods=['POST'])\n",
        "def predict():\n",
        "    try:\n",
        "        # Step 3: Get the user input (last 5 stock prices)\n",
        "        prices = [float(request.form[f'price{i}']) for i in range(1, 6)]\n",
        "\n",
        "        if len(prices) != 5 or any(price <= 0 for price in prices):\n",
        "            raise ValueError(\"Invalid input, please enter positive numbers\")\n",
        "\n",
        "        # Step 4: Prepare data for Linear Regression model\n",
        "        X = np.array(range(len(prices))).reshape(-1, 1)  # Day indices (0, 1, 2, 3, 4)\n",
        "        y = np.array(prices)\n",
        "\n",
        "        # Step 5: Train the model\n",
        "        model = LinearRegression()\n",
        "        model.fit(X, y)\n",
        "\n",
        "        # Step 6: Predict the next day's price\n",
        "        next_day = np.array([[len(prices)]])  # Predict for the next day (day 5)\n",
        "        predicted_price = model.predict(next_day)[0]\n",
        "\n",
        "        # Step 7: Render the result on the webpage\n",
        "        return render_template('index.html', prediction_text=f\"Predicted Next Day Price: ${predicted_price:.2f}\")\n",
        "\n",
        "    except Exception as e:\n",
        "        return render_template('index.html', error_message=str(e))\n",
        "\n",
        "if __name__ == \"__main__\":\n",
        "    app.run(debug=True)\n"
      ],
      "metadata": {
        "colab": {
          "base_uri": "https://localhost:8080/"
        },
        "id": "qdsDmy0zFHOa",
        "outputId": "1c4c26fe-aa67-4bd5-9021-01c4acf7030e"
      },
      "execution_count": null,
      "outputs": [
        {
          "output_type": "stream",
          "name": "stdout",
          "text": [
            " * Serving Flask app '__main__'\n",
            " * Debug mode: on\n"
          ]
        },
        {
          "output_type": "stream",
          "name": "stderr",
          "text": [
            "INFO:werkzeug:\u001b[31m\u001b[1mWARNING: This is a development server. Do not use it in a production deployment. Use a production WSGI server instead.\u001b[0m\n",
            " * Running on http://127.0.0.1:5000\n",
            "INFO:werkzeug:\u001b[33mPress CTRL+C to quit\u001b[0m\n",
            "INFO:werkzeug: * Restarting with stat\n"
          ]
        }
      ]
    },
    {
      "cell_type": "markdown",
      "source": [
        "Create a Prediction Function"
      ],
      "metadata": {
        "id": "zy2ybwX_Ff97"
      }
    },
    {
      "cell_type": "code",
      "source": [
        "from sklearn.linear_model import LinearRegression\n",
        "from sklearn.model_selection import train_test_split\n",
        "import pandas as pd\n",
        "\n",
        "# Sample dataset\n",
        "data = {\n",
        "    'square_feet': [1000, 1500, 2000, 2500, 3000],\n",
        "    'price': [200000, 250000, 300000, 350000, 400000]\n",
        "}\n",
        "\n",
        "df = pd.DataFrame(data)\n",
        "\n",
        "# Features and target\n",
        "X = df[['square_feet']]\n",
        "y = df['price']\n",
        "\n",
        "# Split into training/testing sets\n",
        "X_train, X_test, y_train, y_test = train_test_split(X, y, test_size=0.2, random_state=42)\n",
        "\n",
        "# Create and train the model\n",
        "model = LinearRegression()\n",
        "model.fit(X_train, y_train)\n",
        "\n",
        "# Prediction function\n",
        "def predict_price(square_feet):\n",
        "    return model.predict([[square_feet]])[0]\n",
        "\n",
        "# Example prediction\n",
        "predicted = predict_price(1800)\n",
        "print(f\"Predicted price for 1800 sqft: ${predicted:.2f}\")\n"
      ],
      "metadata": {
        "colab": {
          "base_uri": "https://localhost:8080/"
        },
        "id": "bejbdmZZFiZ3",
        "outputId": "97987217-9f39-4b58-f7c8-56faf729a5fe"
      },
      "execution_count": 1,
      "outputs": [
        {
          "output_type": "stream",
          "name": "stdout",
          "text": [
            "Predicted price for 1800 sqft: $280000.00\n"
          ]
        },
        {
          "output_type": "stream",
          "name": "stderr",
          "text": [
            "/usr/local/lib/python3.11/dist-packages/sklearn/utils/validation.py:2739: UserWarning: X does not have valid feature names, but LinearRegression was fitted with feature names\n",
            "  warnings.warn(\n"
          ]
        }
      ]
    }
  ]
}